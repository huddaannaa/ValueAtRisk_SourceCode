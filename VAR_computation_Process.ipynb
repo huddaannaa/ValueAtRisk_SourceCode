{
 "cells": [
  {
   "cell_type": "code",
   "execution_count": 24,
   "metadata": {
    "collapsed": true
   },
   "outputs": [],
   "source": [
    "import random\n",
    "import csv\n",
    "import math"
   ]
  },
  {
   "cell_type": "code",
   "execution_count": 25,
   "metadata": {
    "collapsed": false
   },
   "outputs": [],
   "source": [
    "class hud_operations:\n",
    "    \n",
    "    def adj(self,path):\n",
    "        com = open(path)\n",
    "        adj = [ ]\n",
    "        lines = csv.reader(com)\n",
    "        for line in lines:\n",
    "            line = line[6]\n",
    "            adj.append(line)\n",
    "        adj = adj[1:4969]\n",
    "        int_l = [ ]\n",
    "        for num in adj:\n",
    "            adj_c = float(num)\n",
    "            int_l.append(adj_c)\n",
    "        int_l = int_l[:]    \n",
    "        return int_l\n",
    "    def ret_s(self,s):\n",
    "        days = len(s) - 1\n",
    "        t_rets = [ ]\n",
    "        for n in range(0,days):\n",
    "            ret = (s[n]-s[n+1])/s[n+1]\n",
    "            t_rets.append(ret)\n",
    "        return t_rets \n",
    "    def sort_(self,c):\n",
    "        c = c#.values.tolist()\n",
    "        c = list(c)\n",
    "        c.sort(reverse = True)\n",
    "        return c\n",
    "\n",
    "\n",
    "class hud_var_methods:\n",
    "    \n",
    "    def historical(self,r_s,investment):\n",
    "        ret_len = len(r_s) - 1\n",
    "        loss_value_at_95 = (95 * ret_len) / 100\n",
    "        r_s95 = r_s[int(loss_value_at_95)]\n",
    "        loss_value_at_99 = (99 * ret_len) / 100\n",
    "        r_s99 = r_s[int(loss_value_at_99)]\n",
    "        investment = int(investment)\n",
    "        var_95 = investment * r_s95\n",
    "        var_99 = investment * r_s99\n",
    "        return var_95, var_99\n",
    "    def covariance(self,r_s,investment,mean,std):\n",
    "        investment = int(investment)\n",
    "        #VAR at 95% is found at 1.65 std from the mean\n",
    "        var95 = -(mean + (1.65 * std)) * investment\n",
    "        #VAR at 99% is found at 2.33 std from the mean\n",
    "        var99 = -(mean + (2.33 * std)) * investment\n",
    "        return var95, var99\n",
    "    def monte_carlo_newprices(self,adjc,r_s,investment,mean,std,M):\n",
    "        #function needs ( adj_close, return_series, investment, mean, std, M )\n",
    "        new_prices = [ ]\n",
    "        randm = [ ]\n",
    "        p = adjc[0]\n",
    "        for m in range(0,M):\n",
    "            q = random.gauss(mean,std)\n",
    "            randm.append(m)\n",
    "        for u in range(0,M):\n",
    "            n = (1 + randm[u]) * p\n",
    "            new_prices.append(n)\n",
    "        return new_prices \n",
    "\n",
    "class hud_math_lib:\n",
    "    \n",
    "    def mean(self,n):\n",
    "        sum_ = 0\n",
    "        for i in range(len(n)):\n",
    "            sum_ += n[i]\n",
    "        men = (sum_ / len(n))    \n",
    "        return men\n",
    "\n",
    "    def std(self,n):\n",
    "        m = (sum(n)/ max(len(n),1))        \n",
    "        diff = [x - m for x in n]\n",
    "        sq_diff = [d ** 2 for d in diff]\n",
    "        s = sum(sq_diff)\n",
    "        return s"
   ]
  },
  {
   "cell_type": "code",
   "execution_count": 28,
   "metadata": {
    "collapsed": false
   },
   "outputs": [
    {
     "name": "stdout",
     "output_type": "stream",
     "text": [
      "Enter Company amazon\n",
      "Enter Investment10\n",
      "Enter MonteSamples1000\n"
     ]
    }
   ],
   "source": [
    "company    = raw_input(\"Enter Company  \")\n",
    "investment = input(\"Enter Investment   \")\n",
    "M          = input(\"Enter MonteSamples \")\n",
    "path       = '/home/hud/2_s2 _sem2/cld_/cw_cld/datasets_cld/' + company + '.csv'\n",
    "\n"
   ]
  },
  {
   "cell_type": "code",
   "execution_count": 29,
   "metadata": {
    "collapsed": false
   },
   "outputs": [],
   "source": [
    "#function initiation(objects)\n",
    "hud_op = hud_operations() \n",
    "hudcw = hud_var_methods()\n",
    "hud_math = hud_math_lib()\n",
    "#function calls\n",
    "adj_close              = hud_op.adj(path)\n",
    "return_series          = hud_op.ret_s(adj_close)\n",
    "\n",
    "sorted_                = hud_op.sort_(return_series)\n",
    "historical             = hudcw.historical(sorted_,investment)\n",
    "\n",
    "mean                   = hud_math.mean(return_series)\n",
    "std                    = hud_math.std(return_series)\n",
    "\n",
    "covariance             = hudcw.covariance(return_series,investment,mean,std)\n",
    "\n",
    "monte_carlo_prices     = hudcw.monte_carlo_newprices(adj_close,return_series,investment,mean,std,M)\n",
    "return_series_monte    = hud_op.ret_s(monte_carlo_prices)\n",
    "sorted_monte           = hud_op.sort_(return_series_monte)\n",
    "historical_monte       = hudcw.historical(sorted_monte,investment)\n",
    "#results to list _for print\n",
    "historical       = list(historical)\n",
    "covariance       = list(covariance)\n",
    "historical_monte = list(historical_monte)"
   ]
  },
  {
   "cell_type": "code",
   "execution_count": 30,
   "metadata": {
    "collapsed": false
   },
   "outputs": [
    {
     "name": "stdout",
     "output_type": "stream",
     "text": [
      "historical value at 95% is         -0.531437125749\n",
      "historical value at 99% is         -1.05690926829\n",
      "covariance value at 95% is         -127.925380284\n",
      "covariance value at 99% is         -180.637870148\n",
      "historical_monte value at 95% is   -0.192307692308\n",
      "historical_monte value at 99% is   -0.833333333333\n"
     ]
    }
   ],
   "source": [
    "print \"historical value at 95% is        \",historical[0]\n",
    "print \"historical value at 99% is        \",historical[1]\n",
    "print \"covariance value at 95% is        \",covariance[0]\n",
    "print \"covariance value at 99% is        \",covariance[1]\n",
    "print \"historical_monte value at 95% is  \",historical_monte[0]\n",
    "print \"historical_monte value at 99% is  \",historical_monte[1]"
   ]
  },
  {
   "cell_type": "code",
   "execution_count": null,
   "metadata": {
    "collapsed": true
   },
   "outputs": [],
   "source": []
  },
  {
   "cell_type": "code",
   "execution_count": null,
   "metadata": {
    "collapsed": true
   },
   "outputs": [],
   "source": []
  }
 ],
 "metadata": {
  "kernelspec": {
   "display_name": "Python 2",
   "language": "python",
   "name": "python2"
  },
  "language_info": {
   "codemirror_mode": {
    "name": "ipython",
    "version": 2
   },
   "file_extension": ".py",
   "mimetype": "text/x-python",
   "name": "python",
   "nbconvert_exporter": "python",
   "pygments_lexer": "ipython2",
   "version": "2.7.12"
  }
 },
 "nbformat": 4,
 "nbformat_minor": 2
}
